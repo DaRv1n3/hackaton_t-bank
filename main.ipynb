{
  "nbformat": 4,
  "nbformat_minor": 0,
  "metadata": {
    "colab": {
      "provenance": [],
      "include_colab_link": true
    },
    "kernelspec": {
      "name": "python3",
      "display_name": "Python 3"
    },
    "language_info": {
      "name": "python"
    }
  },
  "cells": [
    {
      "cell_type": "markdown",
      "metadata": {
        "id": "view-in-github",
        "colab_type": "text"
      },
      "source": [
        "<a href=\"https://colab.research.google.com/github/DaRv1n3/hackaton_t-bank/blob/main/main.ipynb\" target=\"_parent\"><img src=\"https://colab.research.google.com/assets/colab-badge.svg\" alt=\"Open In Colab\"/></a>"
      ]
    },
    {
      "cell_type": "code",
      "source": [
        "name = input()"
      ],
      "metadata": {
        "id": "6Ji7ktkPjNPr",
        "outputId": "86b24d90-be22-4f2e-c690-413e5b63c951",
        "colab": {
          "base_uri": "https://localhost:8080/"
        }
      },
      "execution_count": 1,
      "outputs": [
        {
          "name": "stdout",
          "output_type": "stream",
          "text": [
            "Oleg mongol\n"
          ]
        }
      ]
    },
    {
      "cell_type": "code",
      "execution_count": 2,
      "metadata": {
        "id": "XMNePwSthnzL",
        "outputId": "85ef21bf-684e-4408-abcd-c418eb62d43a",
        "colab": {
          "base_uri": "https://localhost:8080/"
        }
      },
      "outputs": [
        {
          "output_type": "stream",
          "name": "stdout",
          "text": [
            "Oleg mongol\n"
          ]
        }
      ],
      "source": [
        "print(f\"{name}\")"
      ]
    },
    {
      "cell_type": "code",
      "source": [
        "for i in range(1000, 0, -7):\n",
        "  print(i)"
      ],
      "metadata": {
        "id": "9TSovF6SkZ8l",
        "outputId": "0670b78e-e956-4c07-e9d1-52dc76ed3f04",
        "colab": {
          "base_uri": "https://localhost:8080/"
        }
      },
      "execution_count": 4,
      "outputs": [
        {
          "output_type": "stream",
          "name": "stdout",
          "text": [
            "1000\n",
            "993\n",
            "986\n",
            "979\n",
            "972\n",
            "965\n",
            "958\n",
            "951\n",
            "944\n",
            "937\n",
            "930\n",
            "923\n",
            "916\n",
            "909\n",
            "902\n",
            "895\n",
            "888\n",
            "881\n",
            "874\n",
            "867\n",
            "860\n",
            "853\n",
            "846\n",
            "839\n",
            "832\n",
            "825\n",
            "818\n",
            "811\n",
            "804\n",
            "797\n",
            "790\n",
            "783\n",
            "776\n",
            "769\n",
            "762\n",
            "755\n",
            "748\n",
            "741\n",
            "734\n",
            "727\n",
            "720\n",
            "713\n",
            "706\n",
            "699\n",
            "692\n",
            "685\n",
            "678\n",
            "671\n",
            "664\n",
            "657\n",
            "650\n",
            "643\n",
            "636\n",
            "629\n",
            "622\n",
            "615\n",
            "608\n",
            "601\n",
            "594\n",
            "587\n",
            "580\n",
            "573\n",
            "566\n",
            "559\n",
            "552\n",
            "545\n",
            "538\n",
            "531\n",
            "524\n",
            "517\n",
            "510\n",
            "503\n",
            "496\n",
            "489\n",
            "482\n",
            "475\n",
            "468\n",
            "461\n",
            "454\n",
            "447\n",
            "440\n",
            "433\n",
            "426\n",
            "419\n",
            "412\n",
            "405\n",
            "398\n",
            "391\n",
            "384\n",
            "377\n",
            "370\n",
            "363\n",
            "356\n",
            "349\n",
            "342\n",
            "335\n",
            "328\n",
            "321\n",
            "314\n",
            "307\n",
            "300\n",
            "293\n",
            "286\n",
            "279\n",
            "272\n",
            "265\n",
            "258\n",
            "251\n",
            "244\n",
            "237\n",
            "230\n",
            "223\n",
            "216\n",
            "209\n",
            "202\n",
            "195\n",
            "188\n",
            "181\n",
            "174\n",
            "167\n",
            "160\n",
            "153\n",
            "146\n",
            "139\n",
            "132\n",
            "125\n",
            "118\n",
            "111\n",
            "104\n",
            "97\n",
            "90\n",
            "83\n",
            "76\n",
            "69\n",
            "62\n",
            "55\n",
            "48\n",
            "41\n",
            "34\n",
            "27\n",
            "20\n",
            "13\n",
            "6\n"
          ]
        }
      ]
    }
  ]
}